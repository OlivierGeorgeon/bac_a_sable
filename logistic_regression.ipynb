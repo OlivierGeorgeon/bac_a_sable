{
 "cells": [
  {
   "cell_type": "markdown",
   "id": "116345d0-a689-42a5-b0e8-7c282c6bd3a8",
   "metadata": {},
   "source": [
    "[![Open In Colab](https://colab.research.google.com/assets/colab-badge.svg)](https://colab.research.google.com/github/OlivierGeorgeon/bac_a_sable/blob/master/logistic_regression.ipynb)"
   ]
  },
  {
   "cell_type": "markdown",
   "id": "5729bfeb-f0f3-4d8a-b3ae-457a33e2a2d1",
   "metadata": {},
   "source": [
    "# Logistic regression"
   ]
  },
  {
   "cell_type": "markdown",
   "id": "862a8376-2af7-4a51-bc97-6990e3cb0678",
   "metadata": {},
   "source": [
    "La régression logistique est une variante de le régressoin linéaire appliquée au cas ou les échantillons sont classés en seulement deux catégories (classement binaire). \n",
    "\n",
    "Ce tutoriel est basé sur https://www.python-engineer.com/courses/mlfromscratch/03_logisticregression/"
   ]
  },
  {
   "cell_type": "markdown",
   "id": "a3e1a959-6faa-4007-8745-510db8497bb8",
   "metadata": {},
   "source": [
    "La fonction linéaire est remplacée par une fonction en \"S\" appelée sigmoide qui représente la probabilité que l'échantillon appartienne à l'une ou l'autre des catégories:"
   ]
  },
  {
   "cell_type": "markdown",
   "id": "5738e6f7-d79e-458e-85b7-d5ff24e737f8",
   "metadata": {},
   "source": [
    "![Linear to sigmoid](sigmoid.png)"
   ]
  },
  {
   "cell_type": "markdown",
   "id": "eba2791c-e0ba-41df-8aca-5fba627566ea",
   "metadata": {},
   "source": [
    "Figure 1: les points rouge représentent les échantillons d'entrainement de catégorie 0, et les bleus ceux de catégorie 1. \n",
    "La sigmoide représente la courbe de régression qu'on cherche à apprendre. Elle donne la probabilité qu'un échantillons appartienne à la catégorie 1 en fonction de la valeur du *feature* x. Plus x est élevé, plus la probabilité que l'échantillon appartienne à la catégorie \"1\" est élevée."
   ]
  },
  {
   "cell_type": "markdown",
   "id": "6cb91e65-1fb8-4b80-8331-7e86de803068",
   "metadata": {},
   "source": [
    "La formule de la sigmoide est: \n",
    "\n",
    "$\\hat y = h_0(x) = \\frac{1}{1 + e^{-w.x + b}}$"
   ]
  },
  {
   "cell_type": "markdown",
   "id": "f4d714b1-f342-40bc-b392-c9d49597e8ab",
   "metadata": {},
   "source": [
    "## Sigmoid"
   ]
  },
  {
   "cell_type": "markdown",
   "id": "f3aed6b9-c148-42a0-afb5-bf0ea61a0b05",
   "metadata": {},
   "source": [
    "Affichons une sigmoide simple"
   ]
  },
  {
   "cell_type": "code",
   "execution_count": 27,
   "id": "b76a4164-e14b-4ee0-947e-8925b312af86",
   "metadata": {},
   "outputs": [],
   "source": [
    "import numpy as np\n",
    "import matplotlib.pyplot as plt"
   ]
  },
  {
   "cell_type": "code",
   "execution_count": 28,
   "id": "952068bc-adc0-47e2-929c-b88016cbd787",
   "metadata": {},
   "outputs": [
    {
     "data": {
      "image/png": "[encoded data removed]",
      "text/plain": [
       "<Figure size 640x480 with 1 Axes>"
      ]
     },
     "metadata": {},
     "output_type": "display_data"
    }
   ],
   "source": [
    "# Generate x values\n",
    "x = np.linspace(-10, 10, 100)\n",
    "\n",
    "# Generate y values using the sigmoid function\n",
    "y = 1 / (1 + np.exp(-x))\n",
    "\n",
    "# Create the plot\n",
    "plt.plot(x, y, label='Sigmoid Function')\n",
    "plt.title('Sigmoid Function')\n",
    "plt.xlabel('x')\n",
    "plt.ylabel('y')\n",
    "plt.grid(True)\n",
    "plt.legend()\n",
    "plt.show()"
   ]
  },
  {
   "cell_type": "markdown",
   "id": "949c4715-90c3-4b82-aa5c-d5760aa1bdea",
   "metadata": {},
   "source": [
    "## Gradient descent"
   ]
  },
  {
   "cell_type": "markdown",
   "id": "048147aa-0880-41fe-8395-7768e1c29c9c",
   "metadata": {},
   "source": [
    "Pour apprendre les paramètres $w$ et $b$ de la sigmoide, on la transforme en une droite en appliquant une fonction logarithmique.\n",
    "Ensuite on applique la technique de régression linéaire sur cette droite."
   ]
  },
  {
   "cell_type": "markdown",
   "id": "a2dc7649-3184-4288-a8bf-474faba61e4e",
   "metadata": {},
   "source": [
    "![Linear to sigmoid](linear_to_logistic.png)"
   ]
  },
  {
   "cell_type": "markdown",
   "id": "e4b223c8-1232-4519-b749-f1ae36566204",
   "metadata": {},
   "source": [
    "Figure 2: la sigmoide à gauche est transformée une une droite à droite."
   ]
  },
  {
   "cell_type": "markdown",
   "id": "8c9c5b24-b092-4e7d-a3a1-43533cd8c3fa",
   "metadata": {},
   "source": [
    "La \"fitness\" de la sigmoide est calculée en projetant les échantillons connus sur la doite \n",
    "\n",
    "L'explication de cette transformation mathématique est donné ici https://ml-cheatsheet.readthedocs.io/en/latest/logistic_regression.html\n",
    "Une bonne présentation vulgarisée: https://youtu.be/BfKanl1aSG0"
   ]
  },
  {
   "cell_type": "markdown",
   "id": "1942ff87-6db8-4b64-bfe9-140d4dee07d2",
   "metadata": {},
   "source": [
    "## Update function"
   ]
  },
  {
   "cell_type": "markdown",
   "id": "133b0fb8-d6d2-4e33-9d6a-22a732f32515",
   "metadata": {},
   "source": [
    "La *update function* ne change pas par rapport à la régression linéaire, sachant qu'on calcule maintenant la prédiction $\\hat y$ avec la sigmoide:\n",
    "\n",
    "$J'(w, b) = \\begin{bmatrix} \\frac{dJ}{dw} \\\\ \\frac{dJ}{db} \\end{bmatrix} = \\begin{bmatrix} \\frac{1}{N} \\sum_{i=1}^{n} {2x_i(\\hat y - y_i)} \\\\ \\frac{1}{N} \\sum_{i=1}^{n} {2(\\hat y - y_i)} \\end{bmatrix}$"
   ]
  },
  {
   "cell_type": "markdown",
   "id": "7ce5a85a-18f9-4237-bb02-c4b57952f70a",
   "metadata": {},
   "source": [
    "L'implémentation devient donc:"
   ]
  },
  {
   "cell_type": "code",
   "execution_count": 30,
   "id": "200438ae-d2e2-4a97-8feb-6484f519ae7c",
   "metadata": {},
   "outputs": [],
   "source": [
    "class LogisticRegression:\n",
    "    def __init__(self, learning_rate=0.001, n_iters=1000):\n",
    "        self.lr = learning_rate\n",
    "        self.n_iters = n_iters\n",
    "        self.weights = None\n",
    "        self.bias = None\n",
    "\n",
    "    def fit(self, X, y):\n",
    "        n_samples, n_features = X.shape\n",
    "\n",
    "        # init parameters\n",
    "        self.weights = np.zeros(n_features)\n",
    "        self.bias = 0\n",
    "\n",
    "        # gradient descent\n",
    "        for _ in range(self.n_iters):\n",
    "            # approximate y with linear combination of weights and x, plus bias\n",
    "            linear_model = np.dot(X, self.weights) + self.bias\n",
    "            # apply sigmoid function\n",
    "            y_predicted = self._sigmoid(linear_model)\n",
    "\n",
    "            # compute gradients\n",
    "            dw = (1 / n_samples) * np.dot(X.T, (y_predicted - y))\n",
    "            db = (1 / n_samples) * np.sum(y_predicted - y)\n",
    "            # update parameters\n",
    "            self.weights -= self.lr * dw\n",
    "            self.bias -= self.lr * db\n",
    "\n",
    "    def predict(self, X):\n",
    "        linear_model = np.dot(X, self.weights) + self.bias\n",
    "        y_predicted = self._sigmoid(linear_model)\n",
    "        y_predicted_cls = [1 if i > 0.5 else 0 for i in y_predicted]\n",
    "        return np.array(y_predicted_cls)\n",
    "\n",
    "    def _sigmoid(self, x):\n",
    "        return 1 / (1 + np.exp(-x))\n"
   ]
  },
  {
   "cell_type": "markdown",
   "id": "208af563-d686-4dc0-a1f2-2ff6b0183c00",
   "metadata": {},
   "source": [
    "On teste en utilisant des données de sklearn sur le cancer du sein"
   ]
  },
  {
   "cell_type": "code",
   "execution_count": 16,
   "id": "dfc3f8bb-cc2a-4176-9536-578c8ff64bd3",
   "metadata": {},
   "outputs": [],
   "source": [
    "# Imports\n",
    "from sklearn.model_selection import train_test_split\n",
    "from sklearn import datasets\n",
    "\n",
    "bc = datasets.load_breast_cancer()\n",
    "X, y = bc.data, bc.target\n",
    "\n",
    "X_train, X_test, y_train, y_test = train_test_split(\n",
    "    X, y, test_size=0.2, random_state=1234\n",
    ")\n",
    "\n",
    "regressor = LogisticRegression(learning_rate=0.0001, n_iters=1000)\n",
    "regressor.fit(X_train, y_train)\n",
    "predictions = regressor.predict(X_test)"
   ]
  },
  {
   "cell_type": "markdown",
   "id": "c3ccc304-8a5e-4885-979f-d07a963f42fa",
   "metadata": {},
   "source": [
    "Regardons la taille de notre échantillon: "
   ]
  },
  {
   "cell_type": "code",
   "execution_count": 21,
   "id": "fc4cb066-d573-4d46-9bf6-a5b54799a8b8",
   "metadata": {},
   "outputs": [
    {
     "name": "stdout",
     "output_type": "stream",
     "text": [
      "Nombre d'échantillons d'entrainenement: 455, Nombre de features: 30\n"
     ]
    }
   ],
   "source": [
    "print(f\"Nombre d'échantillons d'entrainenement: {X_train.shape[0]}, Nombre de features: {X_train.shape[1]}\")"
   ]
  },
  {
   "cell_type": "markdown",
   "id": "afb2e3e3-fd14-45e0-9bed-2c786e55c10e",
   "metadata": {},
   "source": [
    "Calculons la *accuracy* sur l'échantillon de test"
   ]
  },
  {
   "cell_type": "code",
   "execution_count": 14,
   "id": "a1468393-8104-4c12-b3ad-0ebc819e164e",
   "metadata": {},
   "outputs": [
    {
     "name": "stdout",
     "output_type": "stream",
     "text": [
      "LR classification accuracy: 0.9298245614035088\n"
     ]
    }
   ],
   "source": [
    "def accuracy(y_true, y_pred):\n",
    "    accuracy = np.sum(y_true == y_pred) / len(y_true)\n",
    "    return accuracy\n",
    "\n",
    "print(\"LR classification accuracy:\", accuracy(y_test, predictions))"
   ]
  },
  {
   "cell_type": "markdown",
   "id": "44abfdfb-6c42-4da0-bbfe-e273607e5eb1",
   "metadata": {},
   "source": [
    "# Sujet du TP"
   ]
  },
  {
   "cell_type": "markdown",
   "id": "bed5daa8-cd27-466f-a27a-94edb0fd0dc9",
   "metadata": {},
   "source": [
    "Trouver un learning rate et un nombre d'itérations qui optimisent l'apprentissage "
   ]
  },
  {
   "cell_type": "markdown",
   "id": "40e2d2a5-81d0-458f-8085-77cb4ebb6384",
   "metadata": {},
   "source": [
    "Une fois l'apprentissage effectué. Vérifier la prédiction pour quelques exemples de $x$. "
   ]
  },
  {
   "cell_type": "markdown",
   "id": "94cdea4f-a0ea-47f1-b2cb-4a63760fb2ed",
   "metadata": {},
   "source": [
    "Expliquez ce que vous avez fait"
   ]
  },
  {
   "cell_type": "code",
   "execution_count": null,
   "id": "1f11d9a7-4315-4f38-949a-91811ec349e4",
   "metadata": {},
   "outputs": [],
   "source": []
  }
 ],
 "metadata": {
  "kernelspec": {
   "display_name": "Python 3 (ipykernel)",
   "language": "python",
   "name": "python3"
  },
  "language_info": {
   "codemirror_mode": {
    "name": "ipython",
    "version": 3
   },
   "file_extension": ".py",
   "mimetype": "text/x-python",
   "name": "python",
   "nbconvert_exporter": "python",
   "pygments_lexer": "ipython3",
   "version": "3.9.5"
  }
 },
 "nbformat": 4,
 "nbformat_minor": 5
}
