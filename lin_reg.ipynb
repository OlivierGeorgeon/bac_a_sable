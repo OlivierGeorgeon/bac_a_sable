{
 "cells": [
  {
   "cell_type": "markdown",
   "id": "596409b3-44f0-4578-9f86-31622391c20e",
   "metadata": {},
   "source": [
    "[![Open In Colab](https://colab.research.google.com/assets/colab-badge.svg)](https://colab.research.google.com/github/OlivierGeorgeon/bac_a_sable/blob/master/lin_reg.ipynb)"
   ]
  },
  {
   "cell_type": "markdown",
   "id": "adbe5171-89c2-44d0-acec-c783dcdda652",
   "metadata": {},
   "source": [
    "# Régression Linéaire"
   ]
  },
  {
   "cell_type": "markdown",
   "id": "00b1193e-0b94-4422-a70e-4c9257338a98",
   "metadata": {},
   "source": [
    "Implémentation d'un algorithme de régression linéaire basé sur le tutoriel  https://www.python-engineer.com/courses/mlfromscratch/02_linearregression/"
   ]
  },
  {
   "cell_type": "markdown",
   "id": "445a86d0-cc98-4a2f-8d83-8f8adb74f8f8",
   "metadata": {},
   "source": [
    "On veut pouvoir prédire la valeur $y$ pour n'importe quelle valeurs de $x$ en approximant leur relation par une fonction linéaire: \n",
    "\n",
    "$\\hat y = w . x +b$\n",
    "\n",
    "Voir la figure: les points noirs sont les points connus. La droite bleue est la droite qui donne la valeur estimée $\\hat y$ en approximant le nuage de points au mieux."
   ]
  },
  {
   "cell_type": "markdown",
   "id": "a34645aa-8986-4077-86ea-5a623d44daeb",
   "metadata": {},
   "source": [
    "![Linear Regression](lin_reg.png)"
   ]
  },
  {
   "cell_type": "markdown",
   "id": "560b90e7-3f3d-4e8a-a1e0-f9a03851e83a",
   "metadata": {},
   "source": [
    "Le problème est de trouver les valeurs de $w$ et de $b$ qui définissent la droite.\n",
    "Pour cela on définit une *cost function*. "
   ]
  },
  {
   "cell_type": "markdown",
   "id": "edad6f36-981c-427a-9233-7ec68b245162",
   "metadata": {},
   "source": [
    "## Cost Function"
   ]
  },
  {
   "cell_type": "markdown",
   "id": "dd2ffc9a-fd93-4ca7-9642-4e086007714f",
   "metadata": {},
   "source": [
    "On évalue la distance moyenne entre chaque point point connu et la droite par la *la Mean Squared Error*:\n",
    "\n",
    "$MSE = J(w, b) = \\frac{1}{N} \\sum_{i=1}^{n} (y_i - (wx_i +b))^2$"
   ]
  },
  {
   "cell_type": "markdown",
   "id": "fe1b5716-4c8a-4e9c-bec7-815d31a45cfc",
   "metadata": {},
   "source": [
    "On cherche le minimum de cette fonction de façon à trouver la droite qui constitue la meilleure approximation. \n",
    "\n",
    "On se rappelle de nos cours de math. Pour trouver le minimum d'une fonction il nous faut sa dérivée.\n",
    "\n",
    "Dans notre cas on calcule la dérivée de $J$ par rapport à ses deux arguments $w$ et $b$:\n",
    "\n",
    "$J'(w, b) = \\begin{bmatrix} \\frac{dJ}{dw} \\\\ \\frac{dJ}{db} \\end{bmatrix} = \\begin{bmatrix} \\frac{1}{N} \\sum_{i=1}^{n} { -2x_i(y_i - (wx_i +b))} \\\\ \\frac{1}{N}\\sum_{i=1}^{n} {-2(y_i - (wx_i +b))} \\end{bmatrix}$\n",
    "\n",
    "Pour se convaincre du calcul de dérivé, voir ici https://ml-cheatsheet.readthedocs.io/en/latest/linear_regression.html#gradient-descent "
   ]
  },
  {
   "cell_type": "markdown",
   "id": "fe8253b8-f5c6-463f-bfa6-c35595c1e7c5",
   "metadata": {},
   "source": [
    "## Gradient descent"
   ]
  },
  {
   "cell_type": "markdown",
   "id": "5db44b9c-d1b5-4224-afa3-fac0401200fb",
   "metadata": {},
   "source": [
    "On suit la pente la plus forte jusqu'a arriver au minimum."
   ]
  },
  {
   "cell_type": "markdown",
   "id": "a1b57177-89b7-4616-ab14-56a51c20e743",
   "metadata": {},
   "source": [
    "![gradient descent](gradient_descent.png)"
   ]
  },
  {
   "cell_type": "markdown",
   "id": "25777c33-3764-43d3-af7d-97ef6419a32b",
   "metadata": {},
   "source": [
    "On modifie les valeurs de $w$ et $b$ à chaque itération suivant la pente selon une *update function* qui les modifie à chaque itération.\n",
    "$w= w -\\alpha . dw$  \n",
    "$b= b -\\alpha . db$"
   ]
  },
  {
   "cell_type": "markdown",
   "id": "8003f0db-34c1-46ca-a925-1d36f633b08f",
   "metadata": {},
   "source": [
    "Le coefficient $\\alpha$ est le *learning rate*. \n",
    "Il faut le choisir avec soin. S'il est trop faible, l'apprentissage demandera beaucoup de calculs. S'il est trop élevé l'apprentissage sera instable et risque de ne jamais trouver le minimum:"
   ]
  },
  {
   "cell_type": "markdown",
   "id": "00fc6533-c8fb-4690-8539-69d195ecd7e6",
   "metadata": {},
   "source": [
    "<img src=\"learning_rate.png\" alt=\"description\" style=\"width:50%;\" />"
   ]
  },
  {
   "cell_type": "markdown",
   "id": "7bb7a9e9-4fa9-4a34-a8da-a8c1f0e5a5e5",
   "metadata": {},
   "source": [
    "La pente est donnée par $dw$ et $db$, en anglais *gradient*. Il est connus à partir de la dérivée $J'$ de la *cost function* vue plus haut. On peut les reformuler en: \n",
    "$dw = \\frac{1}{N} \\sum_{i=1}^{n} {2x_i(\\hat y - y_i)}$  \n",
    "$db = \\frac{1}{N} \\sum_{i=1}^{n} {2(\\hat y - y_i)}$  \n",
    "avec  \n",
    "$\\hat y = wx_i + b$\n"
   ]
  },
  {
   "cell_type": "markdown",
   "id": "a2c880f7-1032-4ceb-9dd0-3b85e9af121f",
   "metadata": {},
   "source": [
    "## Le code"
   ]
  },
  {
   "cell_type": "code",
   "execution_count": 11,
   "id": "84c0c3f4-621a-4207-b201-b763312a65eb",
   "metadata": {},
   "outputs": [],
   "source": [
    "import numpy as np"
   ]
  },
  {
   "cell_type": "markdown",
   "id": "9ab16b18-8e10-499e-a5c6-d68e8646dc25",
   "metadata": {},
   "source": [
    "### La class LinearRegression\n",
    "\n",
    "* L'attribut `self.weights` stockes le coefficient $w$. C'est un vecteur de dimension égale au nombre de *features* (dans notre exemple: 1).  \n",
    "* L'attribut `self.bias` stockes la constante $b$.\n",
    "\n",
    "Pour chaque iteration de l'entrainement, la variable `v_predicted` stocke le valeur prédite $\\hat y = w . x +b$.\n",
    "Dans notre exemple, le nombre de *features* est 1 mais cette méthode fonctionne avec un nombre supérieur.  \n",
    "Le produit $w . x$ est le produit scalaire (*dot product*) entre le vecteur des poids (*weights*) et le vecteur des *features*. \n",
    "`v_predicted` est un vecteur qui contient la prediction de chaque *feature*.\n",
    "\n",
    "La valeur d'upgrade $dw$ est un vecteur de dimension égale au nombre de features. On le calcule en une ligne par un produit scalaire entre la transposée des échantillons $X.T$ et le vecteur des écarts (`y_predicted` - y).\n",
    "Le facteur 2 de la formule est omis car il entre dans le *learning rate*."
   ]
  },
  {
   "cell_type": "code",
   "execution_count": 22,
   "id": "696d94f5-c17a-46ec-a2db-4496251ec370",
   "metadata": {},
   "outputs": [],
   "source": [
    "class LinearRegression:\n",
    "    def __init__(self, learning_rate=0.001, n_iters=1000):\n",
    "        self.lr = learning_rate\n",
    "        self.n_iters = n_iters\n",
    "        self.weights = None\n",
    "        self.bias = None\n",
    "\n",
    "    def fit(self, X, y):\n",
    "        n_samples, n_features = X.shape\n",
    "\n",
    "        # init parameters at zero\n",
    "        self.weights = np.zeros(n_features)\n",
    "        self.bias = 0\n",
    "\n",
    "        # gradient descent\n",
    "        for _ in range(self.n_iters):\n",
    "            y_predicted = np.dot(X, self.weights) + self.bias\n",
    "            # compute gradients\n",
    "            dw = (1 / n_samples) * np.dot(X.T, (y_predicted - y))\n",
    "            db = (1 / n_samples) * np.sum(y_predicted - y)\n",
    "\n",
    "            # update parameters\n",
    "            self.weights -= self.lr * dw\n",
    "            self.bias -= self.lr * db\n",
    "\n",
    "    def predict(self, X):\n",
    "        y_approximated = np.dot(X, self.weights) + self.bias\n",
    "        return y_approximated\n"
   ]
  },
  {
   "cell_type": "markdown",
   "id": "60a342b9-9100-43b0-8989-e101a7545f2a",
   "metadata": {},
   "source": [
    "# On teste avec des données"
   ]
  },
  {
   "cell_type": "code",
   "execution_count": null,
   "id": "403c59a1-c613-48c7-b08f-1e0c17af8779",
   "metadata": {},
   "outputs": [],
   "source": [
    "!pip install scikit-learn"
   ]
  },
  {
   "cell_type": "markdown",
   "id": "7b6f03fc-0977-4d63-bfd7-bda2fd6e32be",
   "metadata": {},
   "source": [
    "On récupère 100 échantillons qu'on répartit en 80 échantillons d'entrainement et 20 échantillons de test"
   ]
  },
  {
   "cell_type": "code",
   "execution_count": 15,
   "id": "f85b9abb-7382-4e27-9354-3b118e10e022",
   "metadata": {},
   "outputs": [],
   "source": [
    "import matplotlib.pyplot as plt\n",
    "from sklearn.model_selection import train_test_split\n",
    "from sklearn import datasets\n",
    "\n",
    "X, y = datasets.make_regression(\n",
    "    n_samples=100, n_features=1, noise=20, random_state=4\n",
    ")\n",
    "\n",
    "X_train, X_test, y_train, y_test = train_test_split(\n",
    "    X, y, test_size=0.2, random_state=1234\n",
    ")"
   ]
  },
  {
   "cell_type": "markdown",
   "id": "401587a4-92e4-4daf-9f9c-f518a1daa05a",
   "metadata": {},
   "source": [
    "Voyons à quoi nos données d'entrainement ressemblent"
   ]
  },
  {
   "cell_type": "code",
   "execution_count": 17,
   "id": "924a32c9-32cd-4549-8d30-f63b4e5ef246",
   "metadata": {},
   "outputs": [
    {
     "data": {
      "text/plain": [
       "<function matplotlib.pyplot.show(close=None, block=None)>"
      ]
     },
     "execution_count": 17,
     "metadata": {},
     "output_type": "execute_result"
    },
    {
     "data": {
      "image/png": "[encoded data removed]",
      "text/plain": [
       "<Figure size 640x480 with 1 Axes>"
      ]
     },
     "metadata": {},
     "output_type": "display_data"
    }
   ],
   "source": [
    "fig = plt.figure()\n",
    "plt.scatter(X[:, 0], y, color=\"b\", marker =\"o\", s=30)\n",
    "plt.show"
   ]
  },
  {
   "cell_type": "markdown",
   "id": "41f80143-be58-4f98-8a18-9108e0e6b4f9",
   "metadata": {},
   "source": [
    "Vérifions que nous avons bien 80 échantillons d'entrainement qui ont chacun 1 feature, et 80 labels. "
   ]
  },
  {
   "cell_type": "code",
   "execution_count": 18,
   "id": "3e65406c-8daf-4dea-8ef1-3fa8ba68c8fe",
   "metadata": {},
   "outputs": [
    {
     "name": "stdout",
     "output_type": "stream",
     "text": [
      "(80, 1)\n",
      "(80,)\n"
     ]
    }
   ],
   "source": [
    "print(X_train.shape)\n",
    "print(y_train.shape)"
   ]
  },
  {
   "cell_type": "markdown",
   "id": "ff016352-ef66-44e9-a368-5437189d9d4f",
   "metadata": {},
   "source": [
    "On implémente la Mean Square Error définie précédement"
   ]
  },
  {
   "cell_type": "code",
   "execution_count": 24,
   "id": "4a112976-57c6-4dd6-837d-4f9e67b4370a",
   "metadata": {},
   "outputs": [],
   "source": [
    "def mean_squared_error(y_true, y_pred):\n",
    "    return np.mean((y_true - y_pred) ** 2)"
   ]
  },
  {
   "cell_type": "code",
   "execution_count": 34,
   "id": "59e8260d-395a-4e22-99c2-411db354f2f7",
   "metadata": {},
   "outputs": [
    {
     "name": "stdout",
     "output_type": "stream",
     "text": [
      "MSE: 783.8155465125494\n"
     ]
    }
   ],
   "source": [
    "regressor = LinearRegression(learning_rate=0.001, n_iters=1000)\n",
    "regressor.fit(X_train, y_train)\n",
    "predictions = regressor.predict(X_test)\n",
    "\n",
    "mse = mean_squared_error(y_test, predictions)\n",
    "print(\"MSE:\", mse)"
   ]
  },
  {
   "cell_type": "markdown",
   "id": "8199cdb0-f550-45c1-a5f3-3c378612447e",
   "metadata": {},
   "source": [
    "Avec un learning_rate de 0.001 On voit que l'erreur est élevée. Regardons à quoi ressemblent nos données\n"
   ]
  },
  {
   "cell_type": "code",
   "execution_count": 35,
   "id": "7562cc87-68db-4207-8ec3-70e6df5f9c12",
   "metadata": {},
   "outputs": [
    {
     "data": {
      "image/png": "[encoded data removed]",
      "text/plain": [
       "<Figure size 800x600 with 1 Axes>"
      ]
     },
     "metadata": {},
     "output_type": "display_data"
    }
   ],
   "source": [
    "y_pred_line = regressor.predict(X)\n",
    "cmap = plt.get_cmap(\"viridis\")\n",
    "fig = plt.figure(figsize=(8, 6))\n",
    "m1 = plt.scatter(X_train, y_train, color=cmap(0.9), s=10)\n",
    "m2 = plt.scatter(X_test, y_test, color=cmap(0.5), s=10)\n",
    "plt.plot(X, y_pred_line, color=\"black\", linewidth=2, label=\"Prediction\")\n",
    "plt.show()"
   ]
  },
  {
   "cell_type": "markdown",
   "id": "6ef276c7-1f54-4742-8fcc-285c4b1e2e4e",
   "metadata": {},
   "source": [
    "# Sujet du TP"
   ]
  },
  {
   "cell_type": "markdown",
   "id": "70aa6616-bfbb-4dd5-9414-0a1e3e6b2bd0",
   "metadata": {},
   "source": [
    "Trouver un learning rate et un nombre d'itérations qui optimisent l'apprentissage "
   ]
  },
  {
   "cell_type": "markdown",
   "id": "4e01a18f-ca7a-4cc8-97a6-7127f15963ba",
   "metadata": {},
   "source": [
    "Une fois l'apprentissage effectué. Vérifier la prédiction pour quelques exemples de $x$. \n",
    "\n",
    "Afficher une figure qui montre les échantillons d'entrainement, la droite de régression, et les points que vous avez utilisés pour tester les predictions."
   ]
  },
  {
   "cell_type": "markdown",
   "id": "782f22c8-164d-4f67-b5d5-c2e64dd8e2c9",
   "metadata": {},
   "source": [
    "Expliquez ce que vous avez fait\n"
   ]
  },
  {
   "cell_type": "code",
   "execution_count": null,
   "id": "60d3d450-344c-4394-b38f-feff1bf73944",
   "metadata": {},
   "outputs": [],
   "source": []
  }
 ],
 "metadata": {
  "kernelspec": {
   "display_name": "Python 3 (ipykernel)",
   "language": "python",
   "name": "python3"
  },
  "language_info": {
   "codemirror_mode": {
    "name": "ipython",
    "version": 3
   },
   "file_extension": ".py",
   "mimetype": "text/x-python",
   "name": "python",
   "nbconvert_exporter": "python",
   "pygments_lexer": "ipython3",
   "version": "3.9.5"
  }
 },
 "nbformat": 4,
 "nbformat_minor": 5
}
